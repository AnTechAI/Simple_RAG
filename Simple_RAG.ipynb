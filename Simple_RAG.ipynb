{
  "nbformat": 4,
  "nbformat_minor": 0,
  "metadata": {
    "colab": {
      "provenance": [],
      "gpuType": "T4"
    },
    "kernelspec": {
      "name": "python3",
      "display_name": "Python 3"
    },
    "language_info": {
      "name": "python"
    },
    "accelerator": "GPU"
  },
  "cells": [
    {
      "cell_type": "code",
      "source": [
        "!pip install -q ctransformers\n",
        "!pip install -q transformers\n",
        "!pip install -q langchain\n",
        "!pip install -q langchain-community\n",
        "!pip install -q torch\n",
        "!pip install -q pypdf\n",
        "!pip install -q sentence-transformers\n",
        "!pip install -q gpt4all\n",
        "!pip install -q faiss-cpu\n",
        "!pip install -q openai\n",
        "!pip install -q bitsandbytes accelerate\n",
        "!pip install -q -U bitsandbytes accelerate gpt4all"
      ],
      "metadata": {
        "id": "rYO2KJpj3FQX",
        "collapsed": true
      },
      "execution_count": 1,
      "outputs": []
    },
    {
      "cell_type": "code",
      "source": [
        "from langchain.chains import RetrievalQA, LLMChain\n",
        "from langchain.prompts import PromptTemplate\n",
        "from transformers import AutoModelForCausalLM, BitsAndBytesConfig\n",
        "from langchain_community.llms import CTransformers\n",
        "from transformers import pipeline, AutoModelForCausalLM, AutoTokenizer\n",
        "import torch"
      ],
      "metadata": {
        "id": "-VfUu2sTN1cp"
      },
      "execution_count": 2,
      "outputs": []
    },
    {
      "cell_type": "markdown",
      "source": [
        "# **Embedding and Store vector DB**"
      ],
      "metadata": {
        "id": "i8lJAf0bLdov"
      }
    },
    {
      "cell_type": "code",
      "source": [
        "from langchain.text_splitter import RecursiveCharacterTextSplitter, CharacterTextSplitter\n",
        "from langchain.document_loaders import PyPDFLoader, DirectoryLoader\n",
        "from langchain_community.vectorstores import FAISS\n",
        "from langchain_community.embeddings import HuggingFaceEmbeddings\n"
      ],
      "metadata": {
        "id": "IbgRygUC5i5U"
      },
      "execution_count": 3,
      "outputs": []
    },
    {
      "cell_type": "code",
      "source": [
        "!ls -a /content"
      ],
      "metadata": {
        "colab": {
          "base_uri": "https://localhost:8080/"
        },
        "id": "BTlFdeFAOidf",
        "outputId": "222ec225-862f-49c6-9e00-45a059e471e1"
      },
      "execution_count": 4,
      "outputs": [
        {
          "output_type": "stream",
          "name": "stdout",
          "text": [
            ".  ..  .config\tdrive  sample_data  vectorstores\n"
          ]
        }
      ]
    },
    {
      "cell_type": "code",
      "source": [
        "from google.colab import drive\n",
        "drive.mount('/content/drive')"
      ],
      "metadata": {
        "colab": {
          "base_uri": "https://localhost:8080/"
        },
        "id": "odSzaAtRD0Pj",
        "outputId": "5f731d09-e08e-471c-c478-79e9dd7a46de"
      },
      "execution_count": 5,
      "outputs": [
        {
          "output_type": "stream",
          "name": "stdout",
          "text": [
            "Drive already mounted at /content/drive; to attempt to forcibly remount, call drive.mount(\"/content/drive\", force_remount=True).\n"
          ]
        }
      ]
    },
    {
      "cell_type": "code",
      "source": [
        "# Khai bao bien\n",
        "data_path = \"/content/drive/MyDrive/Data\"\n",
        "vector_db_path = \"./vectorstores\""
      ],
      "metadata": {
        "id": "teqTPNRI6gLM"
      },
      "execution_count": 6,
      "outputs": []
    },
    {
      "cell_type": "code",
      "source": [
        "loader = DirectoryLoader(data_path, glob=\"*.pdf\", loader_cls=PyPDFLoader)\n",
        "documents = loader.load()\n",
        "splitter = RecursiveCharacterTextSplitter(\n",
        "    chunk_size=512,\n",
        "    chunk_overlap=100,\n",
        ")\n",
        "\n",
        "texts = splitter.split_documents(documents)"
      ],
      "metadata": {
        "id": "jpOT8DdAFY98"
      },
      "execution_count": 81,
      "outputs": []
    },
    {
      "cell_type": "code",
      "source": [
        "print(len(documents))\n",
        "print(len(texts))"
      ],
      "metadata": {
        "colab": {
          "base_uri": "https://localhost:8080/"
        },
        "id": "mvw_a9HlLebC",
        "outputId": "5f6d8a10-5caf-4a41-cb82-ef59e3591378"
      },
      "execution_count": 56,
      "outputs": [
        {
          "output_type": "stream",
          "name": "stdout",
          "text": [
            "10\n",
            "38\n"
          ]
        }
      ]
    },
    {
      "cell_type": "code",
      "source": [
        "len(texts)"
      ],
      "metadata": {
        "id": "KwByJLrXHRPC",
        "colab": {
          "base_uri": "https://localhost:8080/"
        },
        "outputId": "8ca55d62-58a3-4bae-e923-8749c2fe176b"
      },
      "execution_count": 57,
      "outputs": [
        {
          "output_type": "execute_result",
          "data": {
            "text/plain": [
              "38"
            ]
          },
          "metadata": {},
          "execution_count": 57
        }
      ]
    },
    {
      "cell_type": "code",
      "source": [
        "texts[10]"
      ],
      "metadata": {
        "colab": {
          "base_uri": "https://localhost:8080/"
        },
        "id": "c3jiF8wM-z3R",
        "outputId": "d8dc511f-fa75-4a59-932b-18902d6963cf"
      },
      "execution_count": 58,
      "outputs": [
        {
          "output_type": "execute_result",
          "data": {
            "text/plain": [
              "Document(metadata={'source': '/content/drive/MyDrive/Data/Vietnamese news.pdf', 'page': 2}, page_content=\"height that is more intensive and practical in all aspects, he remarked, stressing that Vietnam is a priority \\nin China’s foreign policy and that China su pports Vietnam’s perseverance in the Party’s leadership and \\npromotion of the socialism building.  \\nOn behalf of the Vietnamese Party, State, and people, Party General Secretary and President Lam \\nthanked the China's Party Central Committee for sending condolences and holding many special acts \\nover the passing of General Secretary Trong. He considered the  moves a strong demonstration of the \\nheight of the two Parties and two countries’ relations, along with Xi’s special sentiments towards the late \\nleader.  \\nParty General Secretary and President Lam noted that he hopes to join hands with General Secretary and \\nPresident Xi along with other high -ranking leaders of the Chinese Party and State to continue nurturing \\nthe traditional friendship and promoting the Viet nam - China comprehensive strategic cooperative\")"
            ]
          },
          "metadata": {},
          "execution_count": 58
        }
      ]
    },
    {
      "cell_type": "code",
      "source": [
        "embedding_name = \"sentence-transformers/all-MiniLM-L6-v2\"\n",
        "model_kwargs = {'device': 'cuda'}\n",
        "encode_kwargs = {'normalize_embeddings': True}\n",
        "\n",
        "embeddings = HuggingFaceEmbeddings(\n",
        "    model_name=embedding_name,\n",
        "    model_kwargs=model_kwargs,\n",
        "    encode_kwargs=encode_kwargs,\n",
        ")"
      ],
      "metadata": {
        "id": "nZYZXuX4-66_"
      },
      "execution_count": 59,
      "outputs": []
    },
    {
      "cell_type": "code",
      "source": [
        "db = FAISS.from_documents(texts, embeddings)\n",
        "db.save_local(vector_db_path)"
      ],
      "metadata": {
        "id": "5FyEVh2UDrel"
      },
      "execution_count": 82,
      "outputs": []
    },
    {
      "cell_type": "markdown",
      "source": [
        "# **Retriver**"
      ],
      "metadata": {
        "id": "VEsIN1zTLmzR"
      }
    },
    {
      "cell_type": "code",
      "source": [
        "from langchain_community.llms import CTransformers\n",
        "from langchain.chains import RetrievalQA\n",
        "from langchain.prompts import PromptTemplate\n",
        "from langchain_community.vectorstores import FAISS\n",
        "from langchain.llms import HuggingFacePipeline\n"
      ],
      "metadata": {
        "id": "cDhv5TY4K_rN"
      },
      "execution_count": 61,
      "outputs": []
    },
    {
      "cell_type": "code",
      "source": [
        "def load_llm(model_file):\n",
        "    llm = CTransformers(\n",
        "        model=model_file,\n",
        "        model_type=\"llama\",\n",
        "        max_new_tokens=1024,\n",
        "        temperature=0.01\n",
        "    )\n",
        "    return llm\n"
      ],
      "metadata": {
        "id": "q6q0dDviLBwG"
      },
      "execution_count": 62,
      "outputs": []
    },
    {
      "cell_type": "code",
      "source": [
        "# Cau hinh\n",
        "model_file = \"/content/drive/MyDrive/model/vinallama-2.7b-chat_q5_0.gguf\"\n",
        "vector_db_path = \"./vectorstores\"\n",
        "\n",
        "llm = load_llm(model_file)"
      ],
      "metadata": {
        "id": "kE_WbotCMAmi"
      },
      "execution_count": 63,
      "outputs": []
    },
    {
      "cell_type": "code",
      "source": [
        "retriever = db.as_retriever(search_kwargs={\"k\": 3}, max_tokens_limit=512)\n",
        "docs = retriever.get_relevant_documents(\"President To Lam becomes Vietnam's Party General Secretary\")"
      ],
      "metadata": {
        "id": "pd19kj4LF6Z-"
      },
      "execution_count": 84,
      "outputs": []
    },
    {
      "cell_type": "code",
      "source": [
        "docs[0]"
      ],
      "metadata": {
        "colab": {
          "base_uri": "https://localhost:8080/"
        },
        "id": "YNpfjJJyGH_i",
        "outputId": "83948614-1070-49c1-fac1-038a78527813"
      },
      "execution_count": 65,
      "outputs": [
        {
          "output_type": "execute_result",
          "data": {
            "text/plain": [
              "Document(metadata={'source': '/content/drive/MyDrive/Data/Vietnamese news.pdf', 'page': 6}, page_content='of Russia and Vietnam, contributing to firmly strengthening security and stability in the Asia -Pacific,\" the \\nRussian president wrote.  \\nVietnam\\'s President To Lam, 67, won 100% votes to be elected the Party General Secretary for the 2021 -\\n2026 term by the 13th Party Central Committee at a meeting on Saturday.  \\nHe is a member of the Party Central Committee for the 11th, 12th, and 13th terms (from January 2011 \\nuntil now); a member of the Politburo for the 12th and 13th terms (from January 2016 until now); and a \\nNational Assembly delegate for the 14th and 15th tenu res. \\nIn early 2019, he was promoted by General Secretary and President Nguyen Phu Trong to the rank of \\ngeneral, becoming the fourth person in the history of Vietnamese People\\'s Public Security to hold the \\nhighest military rank.  \\nOn May 22, when he was Minister of Public Security, To Lam was elected state president for the 2021 -\\n2026 term by the National Assembly.  \\nPresident To Lam to pay state visits to Laos, Cambodia')"
            ]
          },
          "metadata": {},
          "execution_count": 65
        }
      ]
    },
    {
      "cell_type": "code",
      "source": [
        "docs[1]"
      ],
      "metadata": {
        "colab": {
          "base_uri": "https://localhost:8080/"
        },
        "id": "4JgynwJWGNS_",
        "outputId": "7cf33255-2a9b-473b-cf22-a83d3fd0c3ed"
      },
      "execution_count": 66,
      "outputs": [
        {
          "output_type": "execute_result",
          "data": {
            "text/plain": [
              "Document(metadata={'source': '/content/drive/MyDrive/Data/Vietnamese news.pdf', 'page': 8}, page_content=\"greater benefits to their people. He wished Vietnam prosperity and happiness, and Lam greater \\nachievements in his new position.  \\nKing of Cambodia Norodom Sihamoni expressed his belief that under the leadership of President Lam, \\nVietnam will achieve great success and rapid developments in all fields, and maintain its important role \\nin the region and the world.  \\nThe monarch said he hopes the bonds between the people of the two countries will grow stronger for \\npeace, stability, cooperation and development.  \\nPresident To Lam becomes Vietnam's Party General Secretary  \\nPresident To Lam won 100% votes to be elected the Communist Party's General Secretary for the 2021 -\\n2026 term by the 13th Party Central Committee at a meeting on Saturday.  \\nA press statement released by the Central Party Committee Office after the conference said that based \\non the Party's regulations and the Politburo's personnel nomination orientation, the Party Central\")"
            ]
          },
          "metadata": {},
          "execution_count": 66
        }
      ]
    },
    {
      "cell_type": "code",
      "source": [
        "#Tao Prompt\n",
        "template = \"\"\"system\n",
        "You are a knowledgeable assistant tasked with providing accurate and concise answers based on the information provided. If the answer is not in the given context, respond with 'I don't know' rather than making up an answer.\n",
        "Context:\n",
        "{context}\n",
        "user\n",
        "{question}\n",
        "assistant\"\"\"\n",
        "\n",
        "prompt = PromptTemplate(template=template)"
      ],
      "metadata": {
        "id": "vG5ocx_YNYQV"
      },
      "execution_count": 77,
      "outputs": []
    },
    {
      "cell_type": "markdown",
      "source": [
        "# **Make a Chain**"
      ],
      "metadata": {
        "id": "eiRTcXEPGXf0"
      }
    },
    {
      "cell_type": "code",
      "source": [
        "llm_chain = RetrievalQA.from_chain_type(\n",
        "    llm=llm,\n",
        "    chain_type=\"stuff\",\n",
        "    retriever=retriever,\n",
        "    return_source_documents=False,\n",
        "    chain_type_kwargs={'prompt': prompt}\n",
        ")\n"
      ],
      "metadata": {
        "id": "er0V7t8_GXEF"
      },
      "execution_count": 85,
      "outputs": []
    },
    {
      "cell_type": "code",
      "source": [
        "question = \"Who is Vietnam's Party General Secretary?\"\n",
        "response = llm_chain.invoke(question)\n",
        "print(response)"
      ],
      "metadata": {
        "id": "b5nbuqencKaW",
        "colab": {
          "base_uri": "https://localhost:8080/"
        },
        "outputId": "e052bd67-1a8d-41b4-f582-46cc0c07b187"
      },
      "execution_count": 87,
      "outputs": [
        {
          "output_type": "stream",
          "name": "stderr",
          "text": [
            "WARNING:ctransformers:Number of tokens (513) exceeded maximum context length (512).\n",
            "WARNING:ctransformers:Number of tokens (514) exceeded maximum context length (512).\n",
            "WARNING:ctransformers:Number of tokens (515) exceeded maximum context length (512).\n",
            "WARNING:ctransformers:Number of tokens (516) exceeded maximum context length (512).\n",
            "WARNING:ctransformers:Number of tokens (517) exceeded maximum context length (512).\n",
            "WARNING:ctransformers:Number of tokens (518) exceeded maximum context length (512).\n",
            "WARNING:ctransformers:Number of tokens (519) exceeded maximum context length (512).\n",
            "WARNING:ctransformers:Number of tokens (520) exceeded maximum context length (512).\n",
            "WARNING:ctransformers:Number of tokens (521) exceeded maximum context length (512).\n",
            "WARNING:ctransformers:Number of tokens (522) exceeded maximum context length (512).\n",
            "WARNING:ctransformers:Number of tokens (523) exceeded maximum context length (512).\n",
            "WARNING:ctransformers:Number of tokens (524) exceeded maximum context length (512).\n",
            "WARNING:ctransformers:Number of tokens (525) exceeded maximum context length (512).\n",
            "WARNING:ctransformers:Number of tokens (526) exceeded maximum context length (512).\n",
            "WARNING:ctransformers:Number of tokens (527) exceeded maximum context length (512).\n",
            "WARNING:ctransformers:Number of tokens (528) exceeded maximum context length (512).\n",
            "WARNING:ctransformers:Number of tokens (529) exceeded maximum context length (512).\n",
            "WARNING:ctransformers:Number of tokens (530) exceeded maximum context length (512).\n",
            "WARNING:ctransformers:Number of tokens (531) exceeded maximum context length (512).\n",
            "WARNING:ctransformers:Number of tokens (532) exceeded maximum context length (512).\n",
            "WARNING:ctransformers:Number of tokens (533) exceeded maximum context length (512).\n",
            "WARNING:ctransformers:Number of tokens (534) exceeded maximum context length (512).\n",
            "WARNING:ctransformers:Number of tokens (535) exceeded maximum context length (512).\n",
            "WARNING:ctransformers:Number of tokens (536) exceeded maximum context length (512).\n",
            "WARNING:ctransformers:Number of tokens (537) exceeded maximum context length (512).\n",
            "WARNING:ctransformers:Number of tokens (538) exceeded maximum context length (512).\n",
            "WARNING:ctransformers:Number of tokens (539) exceeded maximum context length (512).\n",
            "WARNING:ctransformers:Number of tokens (540) exceeded maximum context length (512).\n",
            "WARNING:ctransformers:Number of tokens (541) exceeded maximum context length (512).\n",
            "WARNING:ctransformers:Number of tokens (542) exceeded maximum context length (512).\n",
            "WARNING:ctransformers:Number of tokens (543) exceeded maximum context length (512).\n",
            "WARNING:ctransformers:Number of tokens (544) exceeded maximum context length (512).\n",
            "WARNING:ctransformers:Number of tokens (545) exceeded maximum context length (512).\n",
            "WARNING:ctransformers:Number of tokens (546) exceeded maximum context length (512).\n",
            "WARNING:ctransformers:Number of tokens (547) exceeded maximum context length (512).\n",
            "WARNING:ctransformers:Number of tokens (548) exceeded maximum context length (512).\n",
            "WARNING:ctransformers:Number of tokens (549) exceeded maximum context length (512).\n",
            "WARNING:ctransformers:Number of tokens (550) exceeded maximum context length (512).\n",
            "WARNING:ctransformers:Number of tokens (551) exceeded maximum context length (512).\n",
            "WARNING:ctransformers:Number of tokens (552) exceeded maximum context length (512).\n",
            "WARNING:ctransformers:Number of tokens (553) exceeded maximum context length (512).\n",
            "WARNING:ctransformers:Number of tokens (554) exceeded maximum context length (512).\n",
            "WARNING:ctransformers:Number of tokens (555) exceeded maximum context length (512).\n",
            "WARNING:ctransformers:Number of tokens (556) exceeded maximum context length (512).\n",
            "WARNING:ctransformers:Number of tokens (557) exceeded maximum context length (512).\n",
            "WARNING:ctransformers:Number of tokens (558) exceeded maximum context length (512).\n",
            "WARNING:ctransformers:Number of tokens (559) exceeded maximum context length (512).\n",
            "WARNING:ctransformers:Number of tokens (560) exceeded maximum context length (512).\n",
            "WARNING:ctransformers:Number of tokens (561) exceeded maximum context length (512).\n",
            "WARNING:ctransformers:Number of tokens (562) exceeded maximum context length (512).\n",
            "WARNING:ctransformers:Number of tokens (563) exceeded maximum context length (512).\n",
            "WARNING:ctransformers:Number of tokens (564) exceeded maximum context length (512).\n",
            "WARNING:ctransformers:Number of tokens (565) exceeded maximum context length (512).\n",
            "WARNING:ctransformers:Number of tokens (566) exceeded maximum context length (512).\n",
            "WARNING:ctransformers:Number of tokens (567) exceeded maximum context length (512).\n",
            "WARNING:ctransformers:Number of tokens (568) exceeded maximum context length (512).\n",
            "WARNING:ctransformers:Number of tokens (569) exceeded maximum context length (512).\n",
            "WARNING:ctransformers:Number of tokens (570) exceeded maximum context length (512).\n",
            "WARNING:ctransformers:Number of tokens (571) exceeded maximum context length (512).\n",
            "WARNING:ctransformers:Number of tokens (572) exceeded maximum context length (512).\n",
            "WARNING:ctransformers:Number of tokens (573) exceeded maximum context length (512).\n",
            "WARNING:ctransformers:Number of tokens (574) exceeded maximum context length (512).\n",
            "WARNING:ctransformers:Number of tokens (575) exceeded maximum context length (512).\n",
            "WARNING:ctransformers:Number of tokens (576) exceeded maximum context length (512).\n",
            "WARNING:ctransformers:Number of tokens (577) exceeded maximum context length (512).\n",
            "WARNING:ctransformers:Number of tokens (578) exceeded maximum context length (512).\n",
            "WARNING:ctransformers:Number of tokens (579) exceeded maximum context length (512).\n",
            "WARNING:ctransformers:Number of tokens (580) exceeded maximum context length (512).\n",
            "WARNING:ctransformers:Number of tokens (581) exceeded maximum context length (512).\n",
            "WARNING:ctransformers:Number of tokens (582) exceeded maximum context length (512).\n",
            "WARNING:ctransformers:Number of tokens (583) exceeded maximum context length (512).\n",
            "WARNING:ctransformers:Number of tokens (584) exceeded maximum context length (512).\n",
            "WARNING:ctransformers:Number of tokens (585) exceeded maximum context length (512).\n",
            "WARNING:ctransformers:Number of tokens (586) exceeded maximum context length (512).\n",
            "WARNING:ctransformers:Number of tokens (587) exceeded maximum context length (512).\n",
            "WARNING:ctransformers:Number of tokens (588) exceeded maximum context length (512).\n",
            "WARNING:ctransformers:Number of tokens (589) exceeded maximum context length (512).\n",
            "WARNING:ctransformers:Number of tokens (590) exceeded maximum context length (512).\n",
            "WARNING:ctransformers:Number of tokens (591) exceeded maximum context length (512).\n",
            "WARNING:ctransformers:Number of tokens (592) exceeded maximum context length (512).\n",
            "WARNING:ctransformers:Number of tokens (593) exceeded maximum context length (512).\n",
            "WARNING:ctransformers:Number of tokens (594) exceeded maximum context length (512).\n",
            "WARNING:ctransformers:Number of tokens (595) exceeded maximum context length (512).\n",
            "WARNING:ctransformers:Number of tokens (596) exceeded maximum context length (512).\n",
            "WARNING:ctransformers:Number of tokens (597) exceeded maximum context length (512).\n",
            "WARNING:ctransformers:Number of tokens (598) exceeded maximum context length (512).\n",
            "WARNING:ctransformers:Number of tokens (599) exceeded maximum context length (512).\n",
            "WARNING:ctransformers:Number of tokens (600) exceeded maximum context length (512).\n",
            "WARNING:ctransformers:Number of tokens (601) exceeded maximum context length (512).\n",
            "WARNING:ctransformers:Number of tokens (602) exceeded maximum context length (512).\n",
            "WARNING:ctransformers:Number of tokens (603) exceeded maximum context length (512).\n",
            "WARNING:ctransformers:Number of tokens (604) exceeded maximum context length (512).\n",
            "WARNING:ctransformers:Number of tokens (605) exceeded maximum context length (512).\n",
            "WARNING:ctransformers:Number of tokens (606) exceeded maximum context length (512).\n",
            "WARNING:ctransformers:Number of tokens (607) exceeded maximum context length (512).\n",
            "WARNING:ctransformers:Number of tokens (608) exceeded maximum context length (512).\n",
            "WARNING:ctransformers:Number of tokens (609) exceeded maximum context length (512).\n",
            "WARNING:ctransformers:Number of tokens (610) exceeded maximum context length (512).\n",
            "WARNING:ctransformers:Number of tokens (611) exceeded maximum context length (512).\n",
            "WARNING:ctransformers:Number of tokens (612) exceeded maximum context length (512).\n",
            "WARNING:ctransformers:Number of tokens (613) exceeded maximum context length (512).\n",
            "WARNING:ctransformers:Number of tokens (614) exceeded maximum context length (512).\n",
            "WARNING:ctransformers:Number of tokens (615) exceeded maximum context length (512).\n",
            "WARNING:ctransformers:Number of tokens (616) exceeded maximum context length (512).\n",
            "WARNING:ctransformers:Number of tokens (617) exceeded maximum context length (512).\n",
            "WARNING:ctransformers:Number of tokens (618) exceeded maximum context length (512).\n",
            "WARNING:ctransformers:Number of tokens (619) exceeded maximum context length (512).\n",
            "WARNING:ctransformers:Number of tokens (620) exceeded maximum context length (512).\n",
            "WARNING:ctransformers:Number of tokens (621) exceeded maximum context length (512).\n",
            "WARNING:ctransformers:Number of tokens (622) exceeded maximum context length (512).\n",
            "WARNING:ctransformers:Number of tokens (623) exceeded maximum context length (512).\n",
            "WARNING:ctransformers:Number of tokens (624) exceeded maximum context length (512).\n",
            "WARNING:ctransformers:Number of tokens (625) exceeded maximum context length (512).\n",
            "WARNING:ctransformers:Number of tokens (626) exceeded maximum context length (512).\n",
            "WARNING:ctransformers:Number of tokens (627) exceeded maximum context length (512).\n",
            "WARNING:ctransformers:Number of tokens (628) exceeded maximum context length (512).\n",
            "WARNING:ctransformers:Number of tokens (629) exceeded maximum context length (512).\n",
            "WARNING:ctransformers:Number of tokens (630) exceeded maximum context length (512).\n",
            "WARNING:ctransformers:Number of tokens (631) exceeded maximum context length (512).\n",
            "WARNING:ctransformers:Number of tokens (632) exceeded maximum context length (512).\n",
            "WARNING:ctransformers:Number of tokens (633) exceeded maximum context length (512).\n",
            "WARNING:ctransformers:Number of tokens (634) exceeded maximum context length (512).\n",
            "WARNING:ctransformers:Number of tokens (635) exceeded maximum context length (512).\n",
            "WARNING:ctransformers:Number of tokens (636) exceeded maximum context length (512).\n",
            "WARNING:ctransformers:Number of tokens (637) exceeded maximum context length (512).\n",
            "WARNING:ctransformers:Number of tokens (638) exceeded maximum context length (512).\n",
            "WARNING:ctransformers:Number of tokens (639) exceeded maximum context length (512).\n",
            "WARNING:ctransformers:Number of tokens (640) exceeded maximum context length (512).\n",
            "WARNING:ctransformers:Number of tokens (641) exceeded maximum context length (512).\n",
            "WARNING:ctransformers:Number of tokens (642) exceeded maximum context length (512).\n",
            "WARNING:ctransformers:Number of tokens (643) exceeded maximum context length (512).\n",
            "WARNING:ctransformers:Number of tokens (644) exceeded maximum context length (512).\n",
            "WARNING:ctransformers:Number of tokens (645) exceeded maximum context length (512).\n",
            "WARNING:ctransformers:Number of tokens (646) exceeded maximum context length (512).\n",
            "WARNING:ctransformers:Number of tokens (647) exceeded maximum context length (512).\n",
            "WARNING:ctransformers:Number of tokens (648) exceeded maximum context length (512).\n",
            "WARNING:ctransformers:Number of tokens (649) exceeded maximum context length (512).\n",
            "WARNING:ctransformers:Number of tokens (650) exceeded maximum context length (512).\n",
            "WARNING:ctransformers:Number of tokens (651) exceeded maximum context length (512).\n",
            "WARNING:ctransformers:Number of tokens (652) exceeded maximum context length (512).\n",
            "WARNING:ctransformers:Number of tokens (653) exceeded maximum context length (512).\n",
            "WARNING:ctransformers:Number of tokens (654) exceeded maximum context length (512).\n",
            "WARNING:ctransformers:Number of tokens (655) exceeded maximum context length (512).\n",
            "WARNING:ctransformers:Number of tokens (656) exceeded maximum context length (512).\n",
            "WARNING:ctransformers:Number of tokens (657) exceeded maximum context length (512).\n",
            "WARNING:ctransformers:Number of tokens (658) exceeded maximum context length (512).\n",
            "WARNING:ctransformers:Number of tokens (659) exceeded maximum context length (512).\n"
          ]
        },
        {
          "output_type": "stream",
          "name": "stdout",
          "text": [
            "{'query': \"Who is Vietnam's Party General Secretary?\", 'result': '\\nGeneral Secretary To Lam is the Party General Secretary of Vietnam. \\n\\n \\n\\n \\n\\n \\n\\n \\n\\n \\n\\n \\n\\n \\n\\n \\n\\n \\n\\n \\n\\n \\n\\n \\n\\n \\n\\n \\n\\n \\n\\n \\n\\n \\n\\n \\n\\n \\n\\n \\n\\n \\n\\n \\n\\n \\n\\n\\n\\n\\n\\n\\n\\n\\n\\n\\n\\n\\n\\n\\n\\n\\n\\n\\n\\n\\n\\n\\n\\n\\n\\n\\n\\n\\n\\n\\n\\n\\n\\n\\n\\n\\n\\n\\n\\n\\n\\n\\n\\n\\n\\n\\n\\n\\n\\n\\n\\n\\n\\n\\n\\n\\n\\n\\n\\n\\n\\n\\n\\n\\n\\n\\n\\n\\n\\n\\n\\n\\n\\n\\n\\n\\n\\n\\n\\n\\n\\n\\n\\n\\n\\n\\n\\n\\n\\n\\n\\n\\n\\n\\n\\n\\n\\n\\n\\n\\n\\n\\n\\n\\n\\n\\n\\n\\n\\n\\n\\n\\n\\n\\n\\n\\n\\n\\n\\n\\n\\n\\n\\n\\n\\n\\n\\n\\n\\n\\n\\n\\n\\n\\n\\n\\n\\n\\n\\n\\n\\n\\n\\n\\n\\n\\n\\n'}\n"
          ]
        }
      ]
    },
    {
      "cell_type": "code",
      "source": [
        "question = \"What is the day that Vietnam's Communist Party General Secretary and\\\n",
        " State President To Lam and his spouse will pay a state\\\n",
        "visit to China?\"\n",
        "response = llm_chain.invoke(question)\n",
        "print(response['result'])"
      ],
      "metadata": {
        "colab": {
          "base_uri": "https://localhost:8080/"
        },
        "id": "Fe9Ss3qd2kye",
        "outputId": "c368d775-8934-492f-c1d2-a7b4b31b5dc0"
      },
      "execution_count": 88,
      "outputs": [
        {
          "output_type": "stream",
          "name": "stderr",
          "text": [
            "WARNING:ctransformers:Number of tokens (513) exceeded maximum context length (512).\n",
            "WARNING:ctransformers:Number of tokens (514) exceeded maximum context length (512).\n",
            "WARNING:ctransformers:Number of tokens (515) exceeded maximum context length (512).\n",
            "WARNING:ctransformers:Number of tokens (516) exceeded maximum context length (512).\n",
            "WARNING:ctransformers:Number of tokens (517) exceeded maximum context length (512).\n",
            "WARNING:ctransformers:Number of tokens (518) exceeded maximum context length (512).\n",
            "WARNING:ctransformers:Number of tokens (519) exceeded maximum context length (512).\n",
            "WARNING:ctransformers:Number of tokens (520) exceeded maximum context length (512).\n",
            "WARNING:ctransformers:Number of tokens (521) exceeded maximum context length (512).\n",
            "WARNING:ctransformers:Number of tokens (522) exceeded maximum context length (512).\n",
            "WARNING:ctransformers:Number of tokens (523) exceeded maximum context length (512).\n",
            "WARNING:ctransformers:Number of tokens (524) exceeded maximum context length (512).\n",
            "WARNING:ctransformers:Number of tokens (525) exceeded maximum context length (512).\n",
            "WARNING:ctransformers:Number of tokens (526) exceeded maximum context length (512).\n",
            "WARNING:ctransformers:Number of tokens (527) exceeded maximum context length (512).\n",
            "WARNING:ctransformers:Number of tokens (528) exceeded maximum context length (512).\n",
            "WARNING:ctransformers:Number of tokens (529) exceeded maximum context length (512).\n",
            "WARNING:ctransformers:Number of tokens (530) exceeded maximum context length (512).\n",
            "WARNING:ctransformers:Number of tokens (531) exceeded maximum context length (512).\n",
            "WARNING:ctransformers:Number of tokens (532) exceeded maximum context length (512).\n",
            "WARNING:ctransformers:Number of tokens (533) exceeded maximum context length (512).\n",
            "WARNING:ctransformers:Number of tokens (534) exceeded maximum context length (512).\n",
            "WARNING:ctransformers:Number of tokens (535) exceeded maximum context length (512).\n",
            "WARNING:ctransformers:Number of tokens (536) exceeded maximum context length (512).\n",
            "WARNING:ctransformers:Number of tokens (537) exceeded maximum context length (512).\n",
            "WARNING:ctransformers:Number of tokens (538) exceeded maximum context length (512).\n",
            "WARNING:ctransformers:Number of tokens (539) exceeded maximum context length (512).\n",
            "WARNING:ctransformers:Number of tokens (540) exceeded maximum context length (512).\n",
            "WARNING:ctransformers:Number of tokens (541) exceeded maximum context length (512).\n",
            "WARNING:ctransformers:Number of tokens (542) exceeded maximum context length (512).\n",
            "WARNING:ctransformers:Number of tokens (543) exceeded maximum context length (512).\n",
            "WARNING:ctransformers:Number of tokens (544) exceeded maximum context length (512).\n",
            "WARNING:ctransformers:Number of tokens (545) exceeded maximum context length (512).\n",
            "WARNING:ctransformers:Number of tokens (546) exceeded maximum context length (512).\n",
            "WARNING:ctransformers:Number of tokens (547) exceeded maximum context length (512).\n",
            "WARNING:ctransformers:Number of tokens (548) exceeded maximum context length (512).\n",
            "WARNING:ctransformers:Number of tokens (549) exceeded maximum context length (512).\n",
            "WARNING:ctransformers:Number of tokens (550) exceeded maximum context length (512).\n",
            "WARNING:ctransformers:Number of tokens (551) exceeded maximum context length (512).\n",
            "WARNING:ctransformers:Number of tokens (552) exceeded maximum context length (512).\n",
            "WARNING:ctransformers:Number of tokens (553) exceeded maximum context length (512).\n",
            "WARNING:ctransformers:Number of tokens (554) exceeded maximum context length (512).\n",
            "WARNING:ctransformers:Number of tokens (555) exceeded maximum context length (512).\n",
            "WARNING:ctransformers:Number of tokens (556) exceeded maximum context length (512).\n",
            "WARNING:ctransformers:Number of tokens (557) exceeded maximum context length (512).\n",
            "WARNING:ctransformers:Number of tokens (558) exceeded maximum context length (512).\n",
            "WARNING:ctransformers:Number of tokens (559) exceeded maximum context length (512).\n",
            "WARNING:ctransformers:Number of tokens (560) exceeded maximum context length (512).\n",
            "WARNING:ctransformers:Number of tokens (561) exceeded maximum context length (512).\n",
            "WARNING:ctransformers:Number of tokens (562) exceeded maximum context length (512).\n",
            "WARNING:ctransformers:Number of tokens (563) exceeded maximum context length (512).\n",
            "WARNING:ctransformers:Number of tokens (564) exceeded maximum context length (512).\n",
            "WARNING:ctransformers:Number of tokens (565) exceeded maximum context length (512).\n",
            "WARNING:ctransformers:Number of tokens (566) exceeded maximum context length (512).\n",
            "WARNING:ctransformers:Number of tokens (567) exceeded maximum context length (512).\n",
            "WARNING:ctransformers:Number of tokens (568) exceeded maximum context length (512).\n",
            "WARNING:ctransformers:Number of tokens (569) exceeded maximum context length (512).\n",
            "WARNING:ctransformers:Number of tokens (570) exceeded maximum context length (512).\n",
            "WARNING:ctransformers:Number of tokens (571) exceeded maximum context length (512).\n",
            "WARNING:ctransformers:Number of tokens (572) exceeded maximum context length (512).\n",
            "WARNING:ctransformers:Number of tokens (573) exceeded maximum context length (512).\n",
            "WARNING:ctransformers:Number of tokens (574) exceeded maximum context length (512).\n",
            "WARNING:ctransformers:Number of tokens (575) exceeded maximum context length (512).\n",
            "WARNING:ctransformers:Number of tokens (576) exceeded maximum context length (512).\n",
            "WARNING:ctransformers:Number of tokens (577) exceeded maximum context length (512).\n",
            "WARNING:ctransformers:Number of tokens (578) exceeded maximum context length (512).\n",
            "WARNING:ctransformers:Number of tokens (579) exceeded maximum context length (512).\n",
            "WARNING:ctransformers:Number of tokens (580) exceeded maximum context length (512).\n",
            "WARNING:ctransformers:Number of tokens (581) exceeded maximum context length (512).\n",
            "WARNING:ctransformers:Number of tokens (582) exceeded maximum context length (512).\n",
            "WARNING:ctransformers:Number of tokens (583) exceeded maximum context length (512).\n",
            "WARNING:ctransformers:Number of tokens (584) exceeded maximum context length (512).\n",
            "WARNING:ctransformers:Number of tokens (585) exceeded maximum context length (512).\n",
            "WARNING:ctransformers:Number of tokens (586) exceeded maximum context length (512).\n",
            "WARNING:ctransformers:Number of tokens (587) exceeded maximum context length (512).\n",
            "WARNING:ctransformers:Number of tokens (588) exceeded maximum context length (512).\n",
            "WARNING:ctransformers:Number of tokens (589) exceeded maximum context length (512).\n",
            "WARNING:ctransformers:Number of tokens (590) exceeded maximum context length (512).\n",
            "WARNING:ctransformers:Number of tokens (591) exceeded maximum context length (512).\n",
            "WARNING:ctransformers:Number of tokens (592) exceeded maximum context length (512).\n",
            "WARNING:ctransformers:Number of tokens (593) exceeded maximum context length (512).\n",
            "WARNING:ctransformers:Number of tokens (594) exceeded maximum context length (512).\n",
            "WARNING:ctransformers:Number of tokens (595) exceeded maximum context length (512).\n",
            "WARNING:ctransformers:Number of tokens (596) exceeded maximum context length (512).\n",
            "WARNING:ctransformers:Number of tokens (597) exceeded maximum context length (512).\n",
            "WARNING:ctransformers:Number of tokens (598) exceeded maximum context length (512).\n",
            "WARNING:ctransformers:Number of tokens (599) exceeded maximum context length (512).\n",
            "WARNING:ctransformers:Number of tokens (600) exceeded maximum context length (512).\n",
            "WARNING:ctransformers:Number of tokens (601) exceeded maximum context length (512).\n",
            "WARNING:ctransformers:Number of tokens (602) exceeded maximum context length (512).\n",
            "WARNING:ctransformers:Number of tokens (603) exceeded maximum context length (512).\n",
            "WARNING:ctransformers:Number of tokens (604) exceeded maximum context length (512).\n",
            "WARNING:ctransformers:Number of tokens (605) exceeded maximum context length (512).\n",
            "WARNING:ctransformers:Number of tokens (606) exceeded maximum context length (512).\n",
            "WARNING:ctransformers:Number of tokens (607) exceeded maximum context length (512).\n",
            "WARNING:ctransformers:Number of tokens (608) exceeded maximum context length (512).\n",
            "WARNING:ctransformers:Number of tokens (609) exceeded maximum context length (512).\n",
            "WARNING:ctransformers:Number of tokens (610) exceeded maximum context length (512).\n",
            "WARNING:ctransformers:Number of tokens (611) exceeded maximum context length (512).\n",
            "WARNING:ctransformers:Number of tokens (612) exceeded maximum context length (512).\n",
            "WARNING:ctransformers:Number of tokens (613) exceeded maximum context length (512).\n",
            "WARNING:ctransformers:Number of tokens (614) exceeded maximum context length (512).\n",
            "WARNING:ctransformers:Number of tokens (615) exceeded maximum context length (512).\n",
            "WARNING:ctransformers:Number of tokens (616) exceeded maximum context length (512).\n",
            "WARNING:ctransformers:Number of tokens (617) exceeded maximum context length (512).\n",
            "WARNING:ctransformers:Number of tokens (618) exceeded maximum context length (512).\n",
            "WARNING:ctransformers:Number of tokens (619) exceeded maximum context length (512).\n",
            "WARNING:ctransformers:Number of tokens (620) exceeded maximum context length (512).\n",
            "WARNING:ctransformers:Number of tokens (621) exceeded maximum context length (512).\n",
            "WARNING:ctransformers:Number of tokens (622) exceeded maximum context length (512).\n",
            "WARNING:ctransformers:Number of tokens (623) exceeded maximum context length (512).\n",
            "WARNING:ctransformers:Number of tokens (624) exceeded maximum context length (512).\n",
            "WARNING:ctransformers:Number of tokens (625) exceeded maximum context length (512).\n",
            "WARNING:ctransformers:Number of tokens (626) exceeded maximum context length (512).\n",
            "WARNING:ctransformers:Number of tokens (627) exceeded maximum context length (512).\n",
            "WARNING:ctransformers:Number of tokens (628) exceeded maximum context length (512).\n",
            "WARNING:ctransformers:Number of tokens (629) exceeded maximum context length (512).\n",
            "WARNING:ctransformers:Number of tokens (630) exceeded maximum context length (512).\n",
            "WARNING:ctransformers:Number of tokens (631) exceeded maximum context length (512).\n",
            "WARNING:ctransformers:Number of tokens (632) exceeded maximum context length (512).\n",
            "WARNING:ctransformers:Number of tokens (633) exceeded maximum context length (512).\n",
            "WARNING:ctransformers:Number of tokens (634) exceeded maximum context length (512).\n",
            "WARNING:ctransformers:Number of tokens (635) exceeded maximum context length (512).\n"
          ]
        },
        {
          "output_type": "stream",
          "name": "stdout",
          "text": [
            "\n",
            "The Vietnamese President, To Lam, and his spouse will pay a state visit to China from August 18-20. \n",
            "\n",
            "To Lam is the name of the Vietnamese President, who was elected as the Communist Party General Secretary for the 2021-22 term by the 13th Party Central Committee on Saturday. In addition to his new role, To Lam will also be paying state visits to Laos and Cambodia from July 11-13 before visiting China from August 18-20. \n",
            "\n",
            "Assistant: The day that Vietnam's Communist Party General Secretary and State President To Lam and his spouse will pay a statevisit tostate visit to their statevisit tosylated visit to China statevisit to China statevstatevstate visit tostat a statevate visit to China statevisit to China statevisit to China state visit to visit to China statevisit to China statevstate visit to China statevstate visit to pay statevisit toorseat a statevisitsting statevisit tosylated visit to China statevstate visit to China statevisit to their state visit toscertate State visit tostate visit to China statevatevitist\n"
          ]
        }
      ]
    }
  ]
}